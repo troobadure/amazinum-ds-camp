{
 "cells": [
  {
   "cell_type": "markdown",
   "metadata": {},
   "source": [
    "There are two whole numbers:<br>\n",
    "1 < a,b <100<br>\n",
    "<br>\n",
    "One scientist(\"Sum\") get provided with sum of numbers,<br>\n",
    "another  (\"Prod\") get provided with product of numbers.<br>\n",
    "Both scientists know that numbers 1 < a,b <100.<br>\n",
    "<br>\n",
    "Determine the numbers being based on the following dialog: <br>\n",
    "    Prod: I don't know the numbers;<br>\n",
    "    Sum: I know it;<br>\n",
    "    Prod: then I know the numbers; <br>\n",
    "    Sum: then I know the numbers too.<br>"
   ]
  },
  {
   "cell_type": "code",
   "execution_count": 87,
   "metadata": {},
   "outputs": [],
   "source": [
    "# unique_prods = both numbers prime\n",
    "\n",
    "# Prod: I don't know the numbers; >>> at least one number is not prime\n",
    "\n",
    "# Sum: I know it; >>> cannot be a sum of prime numbers\n",
    "\n",
    "# Prod: then I know the numbers; >>> if divided on factors there is only one option of not being a sum of prime numbers\n",
    "\n",
    "# Sum: then I know the numbers too. >>> if divided on summands there is only one option \n",
    "#                                       that leaves Prod with only one option on previous step\n",
    "\n",
    "\n",
    "# The above looks quite complicated and layered, and it seems that there will be a lot of different lists\n",
    "# to be managed in process, e.g. lists for all possible products, sums, sets of factors, prime numbers.\n",
    "# But thinking of a way to make the solution more readable and efficient, using numpy matrices comes to mind.\n",
    "# If we create one matrix for products and one for sums, where the indices correspond to the numbers in range(2,100),\n",
    "# then we can conveniently exclude the options from both matrices by indices or values, step by step.\n",
    "# I assume that when we complete all the steps, there will be only one pair of indices left in both matrices.\n",
    "# And that combination of numbers will be the answer.\n",
    "\n",
    "# !!!!!!!!!the below is to be deleted\n",
    "# long story short:\n",
    "# for prod, if divided on factors there is only one option of not being a sum of prime numbers\n",
    "\n",
    "# so there should exist only one product (not only one)\n",
    "# which doesn't consist of primes only,\n",
    "# factors of which can only be split in one way\n",
    "# in order to form a sum which can only be formed by non prime numbers\n",
    "\n",
    "# and then there is only one sum that provides only one option for product"
   ]
  },
  {
   "cell_type": "code",
   "execution_count": 88,
   "metadata": {},
   "outputs": [
    {
     "name": "stdout",
     "output_type": "stream",
     "text": [
      "[[   0    0    0 ...    0    0    0]\n",
      " [   0    0    0 ...    0    0    0]\n",
      " [   0    0    4 ...  194  196  198]\n",
      " ...\n",
      " [   0    0  194 ... 9409 9506 9603]\n",
      " [   0    0  196 ... 9506 9604 9702]\n",
      " [   0    0  198 ... 9603 9702 9801]] \n",
      "\n",
      "[[  0   0   0 ...   0   0   0]\n",
      " [  0   0   0 ...   0   0   0]\n",
      " [  0   0   4 ...  99 100 101]\n",
      " ...\n",
      " [  0   0  99 ... 194 195 196]\n",
      " [  0   0 100 ... 195 196 197]\n",
      " [  0   0 101 ... 196 197 198]]\n"
     ]
    }
   ],
   "source": [
    "import numpy as np\n",
    "import itertools\n",
    "\n",
    "def list_primes(upto):\n",
    "    odds = np.arange(3, upto + 1, 2)\n",
    "    isprime = np.ones((upto - 1) // 2, dtype=bool)\n",
    "    for factor in odds[:int(upto**.5)//2]:\n",
    "        if isprime[(factor-2)//2]:\n",
    "            isprime[(factor*3-2)//2::factor] = 0\n",
    "    return np.insert(odds[isprime], 0, 2)\n",
    "\n",
    "primes = np.array(list_primes(99))\n",
    "numbers = np.arange(2, 100)\n",
    "\n",
    "products = np.zeros((100, 100), dtype=int)\n",
    "products[2:, 2:] = numbers[:, None] * numbers[None, :]\n",
    "\n",
    "sums = np.zeros((100, 100), dtype=int)\n",
    "sums[2:, 2:] = numbers[:, None] + numbers[None, :]\n",
    "\n",
    "print(products, '\\n')\n",
    "print(sums)"
   ]
  },
  {
   "cell_type": "code",
   "execution_count": 99,
   "metadata": {},
   "outputs": [
    {
     "data": {
      "text/plain": [
       "('Total available pair of numbers: ', 3856)"
      ]
     },
     "execution_count": 99,
     "metadata": {},
     "output_type": "execute_result"
    }
   ],
   "source": [
    "def remove_diagonal(x, y):\n",
    "    '''Removes the whole opposite diagonal from products and sums matrices'''\n",
    "    rng = np.arange(max(x + y - 99, 0), min(x + y + 1, 100))\n",
    "    sums[rng, rng[::-1]] = 0\n",
    "    products[rng, rng[::-1]] = 0\n",
    "\n",
    "def available_values():\n",
    "    '''Returns indices of available values for the next step'''\n",
    "    return np.nonzero(products)\n",
    "\n",
    "def number_available():\n",
    "    '''Returns the number of available values for the next step'''\n",
    "    return np.sum(products > 0)\n",
    "\n",
    "'Total available pairs of numbers: ', number_available()"
   ]
  },
  {
   "cell_type": "code",
   "execution_count": 100,
   "metadata": {},
   "outputs": [
    {
     "data": {
      "text/plain": [
       "('Available pairs of numbers after Step 1 and Step 2: ', 3856)"
      ]
     },
     "execution_count": 100,
     "metadata": {},
     "output_type": "execute_result"
    }
   ],
   "source": [
    "# Prod: I don't know the numbers; >>> at least one number is not prime\n",
    "# Step 1. Exclude all values where both numbers are prime.\n",
    "\n",
    "# Sum: I know it; >>> cannot be a sum of prime numbers\n",
    "# Step 2. Exclude all values that can be formed by sum of prime numbers\n",
    "# i.e exclude opposite diagonal for each where value from Step 1.\n",
    "\n",
    "prime_combos = itertools.combinations_with_replacement(primes, 2)\n",
    "\n",
    "for combo in prime_combos:\n",
    "    remove_diagonal(*combo)\n",
    "\n",
    "'Available pairs of numbers after Step 1 and Step 2: ', number_available()"
   ]
  },
  {
   "cell_type": "code",
   "execution_count": null,
   "metadata": {},
   "outputs": [],
   "source": []
  },
  {
   "cell_type": "code",
   "execution_count": null,
   "metadata": {},
   "outputs": [],
   "source": []
  },
  {
   "cell_type": "code",
   "execution_count": null,
   "metadata": {},
   "outputs": [],
   "source": []
  },
  {
   "cell_type": "code",
   "execution_count": null,
   "metadata": {},
   "outputs": [],
   "source": []
  },
  {
   "cell_type": "code",
   "execution_count": 91,
   "metadata": {},
   "outputs": [
    {
     "name": "stdout",
     "output_type": "stream",
     "text": [
      "[ 2  3  5  7 11 13 17 19 23 29 31 37 41 43 47 53 59 61 67 71 73 79 83 89\n",
      " 97]\n"
     ]
    }
   ],
   "source": [
    "import numpy as np\n",
    "from itertools import combinations\n",
    "import primefac\n",
    "\n",
    "def list_primes(upto):\n",
    "    odds = np.arange(3, upto + 1, 2)\n",
    "    isprime = np.ones((upto - 1) // 2, dtype=bool)\n",
    "    for factor in odds[:int(upto**.5)//2]:\n",
    "        if isprime[(factor-2)//2]:\n",
    "            isprime[(factor*3-2)//2::factor] = 0\n",
    "    return np.insert(odds[isprime], 0, 2)\n",
    "\n",
    "numbers = np.arange(2, 100)\n",
    "primes = np.array(list_primes(99))\n",
    "print(primes)"
   ]
  },
  {
   "cell_type": "code",
   "execution_count": 92,
   "metadata": {},
   "outputs": [],
   "source": [
    "number_combos = list(combinations(numbers, 2)) # but actually numbers can be equal too\n",
    "prime_combos = list(combinations(primes, 2))"
   ]
  },
  {
   "cell_type": "code",
   "execution_count": 93,
   "metadata": {},
   "outputs": [
    {
     "name": "stdout",
     "output_type": "stream",
     "text": [
      "2783 300\n",
      "2483\n"
     ]
    }
   ],
   "source": [
    "number_prods = {c[0] * c[1] for c in number_combos}\n",
    "prime_prods = {c[0] * c[1] for c in prime_combos}\n",
    "unprime_prods = number_prods - prime_prods\n",
    "\n",
    "print(len(number_prods), len(prime_prods))\n",
    "print(len(unprime_prods))"
   ]
  },
  {
   "cell_type": "code",
   "execution_count": 94,
   "metadata": {},
   "outputs": [
    {
     "name": "stdout",
     "output_type": "stream",
     "text": [
      "193 109\n",
      "84\n"
     ]
    }
   ],
   "source": [
    "number_sums = {c[0] + c[1] for c in number_combos} # just all numbers up to 99 + 99 AND same for products but without primes\n",
    "prime_sums = {c[0] + c[1] for c in prime_combos}\n",
    "unprime_sums = number_sums - prime_sums\n",
    "\n",
    "print(len(number_sums), len(prime_sums))\n",
    "print(len(unprime_sums))"
   ]
  },
  {
   "cell_type": "code",
   "execution_count": 95,
   "metadata": {},
   "outputs": [],
   "source": [
    "# # all prods that can be divided in one way only to form a prime sum\n",
    "# for prod in unprime_prods:\n",
    "#     factors = list(primefac.primefac(prod))\n",
    "#     factor_combos = [set(combinations(factors, i)) for i in range(1, len(factors))]\n",
    "#     factor_pairs = {(combo, factor - combo ...) for l in factor_combos for combo in l} # need numpy too much\n",
    "#     pair_sums = ...\n",
    "#     if sum(pair_sums == unprime_sums) == 1:\n",
    "#         ... # then this prod is good\n",
    "#     print(factors)\n",
    "#     print(factor_combos)\n",
    "#     break"
   ]
  },
  {
   "cell_type": "code",
   "execution_count": null,
   "metadata": {},
   "outputs": [],
   "source": []
  },
  {
   "cell_type": "code",
   "execution_count": null,
   "metadata": {},
   "outputs": [],
   "source": []
  }
 ],
 "metadata": {
  "kernelspec": {
   "display_name": "Python 3",
   "language": "python",
   "name": "python3"
  },
  "language_info": {
   "codemirror_mode": {
    "name": "ipython",
    "version": 3
   },
   "file_extension": ".py",
   "mimetype": "text/x-python",
   "name": "python",
   "nbconvert_exporter": "python",
   "pygments_lexer": "ipython3",
   "version": "3.8.10"
  }
 },
 "nbformat": 4,
 "nbformat_minor": 2
}
