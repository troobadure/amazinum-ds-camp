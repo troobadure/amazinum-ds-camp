{
 "cells": [
  {
   "cell_type": "markdown",
   "metadata": {},
   "source": [
    "There are two whole numbers:<br>\n",
    "1 < a,b <100<br>\n",
    "<br>\n",
    "One scientist(\"Sum\") get provided with sum of numbers,<br>\n",
    "another  (\"Prod\") get provided with product of numbers.<br>\n",
    "Both scientists know that numbers 1 < a,b <100.<br>\n",
    "<br>\n",
    "Determine the numbers being based on the following dialog: <br>\n",
    "    Prod: I don't know the numbers;<br>\n",
    "    Sum: I know it;<br>\n",
    "    Prod: then I know the numbers; <br>\n",
    "    Sum: then I know the numbers too.<br>"
   ]
  },
  {
   "cell_type": "code",
   "execution_count": 13,
   "metadata": {},
   "outputs": [],
   "source": [
    "# unique_prods = both numbers prime\n",
    "\n",
    "# Prod: I don't know the numbers; >>> at least one number is not prime\n",
    "\n",
    "# Sum: I know it; >>> cannot be a sum of prime numbers\n",
    "\n",
    "# Prod: then I know the numbers; >>> if divided on factors there is only one option\n",
    "#                                    of not being a sum of prime numbers\n",
    "\n",
    "# Sum: then I know the numbers too. >>> if divided on summands there is only one option \n",
    "#                                       that leaves Prod with only one option on previous step\n",
    "\n",
    "\n",
    "# The above looks quite complicated and layered, and it seems that there will be a lot of different lists\n",
    "# to be managed in process, e.g. lists for all possible products, sums, sets of factors, prime numbers.\n",
    "# But thinking of a way to make the solution more readable and efficient, using numpy matrices comes to mind.\n",
    "# If we create one matrix for products and one for sums, where the indices correspond to the numbers in range(2,100),\n",
    "# then we can conveniently exclude the options from both matrices by indices or values, step by step.\n",
    "# I assume that when we complete all the steps, there will be only one pair of indices left in both matrices.\n",
    "# And that combination of numbers will be the answer.\n",
    "\n",
    "# Some additional notes:\n",
    "# - The products and sums matrices are symmetric, \n",
    "#   so it's enough use the upper triangles only.\n",
    "# - Deleting an option by value from sums matrix means\n",
    "#   deleting the whole opposite diagonal with that value for sums\n",
    "\n",
    "\n",
    "\n",
    "# !!!!!!!!!the below is to be deleted\n",
    "# long story short:\n",
    "# for prod, if divided on factors there is only one option of not being a sum of prime numbers\n",
    "\n",
    "# so there should exist only one product (not only one)\n",
    "# which doesn't consist of primes only,\n",
    "# factors of which can only be split in one way\n",
    "# in order to form a sum which can only be formed by non prime numbers\n",
    "\n",
    "# and then there is only one sum that provides only one option for product"
   ]
  },
  {
   "cell_type": "code",
   "execution_count": 14,
   "metadata": {},
   "outputs": [
    {
     "name": "stdout",
     "output_type": "stream",
     "text": [
      "[[   0    0    0 ...    0    0    0]\n",
      " [   0    0    0 ...    0    0    0]\n",
      " [   0    0    4 ...  194  196  198]\n",
      " ...\n",
      " [   0    0    0 ... 9409 9506 9603]\n",
      " [   0    0    0 ...    0 9604 9702]\n",
      " [   0    0    0 ...    0    0 9801]] \n",
      "\n",
      "[[  0   0   0 ...   0   0   0]\n",
      " [  0   0   0 ...   0   0   0]\n",
      " [  0   0   4 ...  99 100 101]\n",
      " ...\n",
      " [  0   0   0 ... 194 195 196]\n",
      " [  0   0   0 ...   0 196 197]\n",
      " [  0   0   0 ...   0   0 198]]\n"
     ]
    }
   ],
   "source": [
    "import numpy as np\n",
    "import itertools\n",
    "\n",
    "def list_primes(upto):\n",
    "    odds = np.arange(3, upto + 1, 2)\n",
    "    isprime = np.ones((upto - 1) // 2, dtype=bool)\n",
    "    for factor in odds[:int(upto**.5)//2]:\n",
    "        if isprime[(factor-2)//2]:\n",
    "            isprime[(factor*3-2)//2::factor] = 0\n",
    "    return np.insert(odds[isprime], 0, 2)\n",
    "\n",
    "primes = np.array(list_primes(99))\n",
    "numbers = np.arange(2, 100)\n",
    "\n",
    "products = np.zeros((100, 100), dtype=int)\n",
    "products[2:, 2:] = np.triu(numbers[:, None] * numbers[None, :])\n",
    "\n",
    "products_original = products.copy()\n",
    "\n",
    "sums = np.zeros((100, 100), dtype=int)\n",
    "sums[2:, 2:] = np.triu(numbers[:, None] + numbers[None, :])\n",
    "\n",
    "print(products, '\\n')\n",
    "print(sums)"
   ]
  },
  {
   "cell_type": "code",
   "execution_count": 15,
   "metadata": {},
   "outputs": [
    {
     "data": {
      "text/plain": [
       "('Total available pairs of numbers: ', 4851)"
      ]
     },
     "execution_count": 15,
     "metadata": {},
     "output_type": "execute_result"
    }
   ],
   "source": [
    "def remove_diagonal(x, y, *, mark=0):\n",
    "    '''Removes the whole opposite diagonal in upper triangle from products and sums matrices'''\n",
    "    rng = np.arange(max(x + y - 99, 0), min(x + y + 1, 100))\n",
    "    upper_triangle_diagonal = rng[:(len(rng)+1)//2], rng[:-(len(rng)+2)//2:-1]\n",
    "\n",
    "    sums[upper_triangle_diagonal] = mark\n",
    "    products[upper_triangle_diagonal] = mark\n",
    "\n",
    "def remove_by_index(x, y):\n",
    "    '''Removes the value in upper triangle from products and sums matrices'''\n",
    "    sums[x, y] = 0\n",
    "    products[x, y] = 0\n",
    "\n",
    "def remove_by_prod(prod):\n",
    "    pass\n",
    "\n",
    "def remove_by_sum(sum):\n",
    "    pass\n",
    "\n",
    "def available_values():\n",
    "    '''Returns indices of available values for the next step'''\n",
    "    # return np.nonzero(products)\n",
    "    return np.positive(sums)\n",
    "\n",
    "def number_available():\n",
    "    '''Returns the number of available values for the next step'''\n",
    "    return np.sum(sums > 0)\n",
    "\n",
    "'Total available pairs of numbers: ', number_available()"
   ]
  },
  {
   "cell_type": "code",
   "execution_count": 16,
   "metadata": {},
   "outputs": [
    {
     "data": {
      "text/plain": [
       "('Available pairs of numbers after Step 1 and Step 2: ', 1932)"
      ]
     },
     "execution_count": 16,
     "metadata": {},
     "output_type": "execute_result"
    }
   ],
   "source": [
    "# Prod: I don't know the numbers; >>> at least one number is not prime\n",
    "# Step 1. Exclude all values where both numbers are prime.\n",
    "\n",
    "# Sum: I know it; >>> cannot be a sum of prime numbers\n",
    "# Step 2. Exclude all values that can be formed by sum of prime numbers\n",
    "# i.e exclude opposite diagonal for each where value from Step 1.\n",
    "\n",
    "prime_combos = itertools.combinations_with_replacement(primes, 2)\n",
    "\n",
    "for combo in prime_combos:\n",
    "    remove_diagonal(*combo, mark=-1) # marking prime sums diagonals for step 3\n",
    "\n",
    "'Available pairs of numbers after Step 1 and Step 2: ', number_available()"
   ]
  },
  {
   "cell_type": "code",
   "execution_count": 17,
   "metadata": {},
   "outputs": [
    {
     "name": "stdout",
     "output_type": "stream",
     "text": [
      "(1445,)\n"
     ]
    },
    {
     "data": {
      "text/plain": [
       "375"
      ]
     },
     "execution_count": 17,
     "metadata": {},
     "output_type": "execute_result"
    }
   ],
   "source": [
    "# Prod: then I know the numbers; >>> if divided on factors there is only one option \n",
    "#                                    of not being a sum of prime numbers\n",
    "# Step 3. For each product find indices of equal values, count pairs which make sums\n",
    "#         that lay in a diagonal of a prime number sum. Than filter out single counts\n",
    "#         but only when there are multiple sets of factors (else prod could have guessed earlier).\n",
    "# TEMPORARILY PROD TABLE WILL NOT BE MODIFIED AT STEP 2 TO SAFE PRODS IN PRIME DIAGONALS\n",
    "unique_prods = np.unique(products)[2:]\n",
    "print(unique_prods.shape)\n",
    "good_prods = np.array([])\n",
    "for prod in unique_prods:\n",
    "    corresponding_sums = sums[np.where(products_original == prod)]\n",
    "    if len(corresponding_sums) > 1 and np.sum(corresponding_sums != -1) == 1:\n",
    "        # print('keep this prod', prod, corresponding_sums)\n",
    "        good_prods = np.append(good_prods, prod)\n",
    "        products[np.where(products_original == prod)] = -2\n",
    "    # if this gives array of len > 1 and there is only one -1,\n",
    "    # then this is the value we need to keep\n",
    "len(good_prods)"
   ]
  },
  {
   "cell_type": "code",
   "execution_count": 19,
   "metadata": {},
   "outputs": [
    {
     "name": "stdout",
     "output_type": "stream",
     "text": [
      "(81,)\n"
     ]
    },
    {
     "data": {
      "text/plain": [
       "7"
      ]
     },
     "execution_count": 19,
     "metadata": {},
     "output_type": "execute_result"
    }
   ],
   "source": [
    "# Sum: then I know the numbers too. >>> if divided on summands there is only one option \n",
    "#                                       that leaves Prod with only one option on previous step\n",
    "# Step 4. Divide each sum on summands, count combos that multiply into one of prods values\n",
    "#         from Step 3. Then filter out single counts. There sould be only one such. \n",
    "\n",
    "unique_sums = np.unique(sums)[2:]\n",
    "print(unique_sums.shape)\n",
    "good_sums = np.array([])\n",
    "for sum in unique_sums:\n",
    "    corresponding_prods = products[np.where(sums == sum)]\n",
    "    if np.sum(corresponding_prods == -2) == 1:\n",
    "        good_sums = np.append(good_sums, sum)\n",
    "        # print('keep this sum', sum, corresponding_prods, np.where(sums == sum))\n",
    "len(good_sums)"
   ]
  },
  {
   "cell_type": "code",
   "execution_count": null,
   "metadata": {},
   "outputs": [],
   "source": []
  },
  {
   "cell_type": "code",
   "execution_count": null,
   "metadata": {},
   "outputs": [],
   "source": []
  },
  {
   "cell_type": "code",
   "execution_count": null,
   "metadata": {},
   "outputs": [],
   "source": []
  },
  {
   "cell_type": "code",
   "execution_count": null,
   "metadata": {},
   "outputs": [],
   "source": []
  },
  {
   "cell_type": "code",
   "execution_count": null,
   "metadata": {},
   "outputs": [],
   "source": []
  },
  {
   "cell_type": "code",
   "execution_count": null,
   "metadata": {},
   "outputs": [],
   "source": []
  },
  {
   "cell_type": "code",
   "execution_count": null,
   "metadata": {},
   "outputs": [],
   "source": []
  },
  {
   "cell_type": "code",
   "execution_count": null,
   "metadata": {},
   "outputs": [],
   "source": []
  },
  {
   "cell_type": "code",
   "execution_count": null,
   "metadata": {},
   "outputs": [],
   "source": []
  }
 ],
 "metadata": {
  "kernelspec": {
   "display_name": "Python 3",
   "language": "python",
   "name": "python3"
  },
  "language_info": {
   "codemirror_mode": {
    "name": "ipython",
    "version": 3
   },
   "file_extension": ".py",
   "mimetype": "text/x-python",
   "name": "python",
   "nbconvert_exporter": "python",
   "pygments_lexer": "ipython3",
   "version": "3.8.10"
  }
 },
 "nbformat": 4,
 "nbformat_minor": 2
}
