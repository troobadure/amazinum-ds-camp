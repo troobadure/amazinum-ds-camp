{
 "cells": [
  {
   "cell_type": "markdown",
   "metadata": {},
   "source": [
    "## Task about sum and product \n",
    "\n",
    "Note: This is optional task. \n",
    "However it is also evaluated and so you will get extra points to final score. \n",
    "Thus, we encourage you to solve it. "
   ]
  },
  {
   "cell_type": "markdown",
   "metadata": {},
   "source": [
    "```\n",
    "There are two whole numbers:\n",
    "1 < a,b <100\n",
    "\n",
    "One scientist(\"Sum\") get provided with sum of numbers,\n",
    "another  (\"Prod\") get provided with product of numbers. \n",
    "Both scientists know that numbers 1 < a,b <100.\n",
    "\n",
    "Determine the numbers being based on the following dialog: \n",
    "    Prod: I don't know the numbers;\n",
    "    Sum: I know it;\n",
    "    Prod: then I know the numbers; \n",
    "    Sum: then I know the numbers too.\n",
    "```"
   ]
  },
  {
   "cell_type": "code",
   "execution_count": 58,
   "metadata": {},
   "outputs": [],
   "source": [
    "# unique_prods = both numbers prime but not only this: actually, we just need to check this for each product\n",
    "\n",
    "# Prod: I don't know the numbers; >>> the product is not unique\n",
    "\n",
    "# Sum: I know it; >>> cannot be a sum of numbers, that make a unique product\n",
    "\n",
    "# Prod: then I know the numbers; >>> if divided on factors there is only one option\n",
    "#                                    of not being a sum of prime numbers\n",
    "\n",
    "# Sum: then I know the numbers too. >>> if divided on summands there is only one option \n",
    "#                                       that leaves Prod with only one option on previous step\n",
    "\n",
    "# The above looks quite complicated and layered, and it seems that there will be a lot of different lists\n",
    "# to be managed in process, e.g. lists for all possible products, sums, sets of factors, prime numbers.\n",
    "# But thinking of a way to make the solution more readable and efficient, using numpy matrices comes to mind.\n",
    "# If we create one matrix for products and one for sums, where the indices correspond to the numbers in range(2,100),\n",
    "# then we can conveniently exclude the options from both matrices by indices or values, step by step.\n",
    "# I assume that when we complete all the steps, there will be only one pair of indices left in both matrices.\n",
    "# And that combination of numbers will be the answer.\n",
    "\n",
    "# Some additional notes:\n",
    "# - The products and sums matrices are symmetric, \n",
    "#   so it's enough to use the upper triangles only.\n",
    "# - Deleting an option by value from sums matrix means\n",
    "#   deleting the whole opposite diagonal with that value"
   ]
  },
  {
   "cell_type": "code",
   "execution_count": 59,
   "metadata": {},
   "outputs": [
    {
     "name": "stdout",
     "output_type": "stream",
     "text": [
      "[[   0    0    0 ...    0    0    0]\n",
      " [   0    0    0 ...    0    0    0]\n",
      " [   0    0    4 ...  194  196  198]\n",
      " ...\n",
      " [   0    0    0 ... 9409 9506 9603]\n",
      " [   0    0    0 ...    0 9604 9702]\n",
      " [   0    0    0 ...    0    0 9801]] \n",
      "\n",
      "[[  0   0   0 ...   0   0   0]\n",
      " [  0   0   0 ...   0   0   0]\n",
      " [  0   0   4 ...  99 100 101]\n",
      " ...\n",
      " [  0   0   0 ... 194 195 196]\n",
      " [  0   0   0 ...   0 196 197]\n",
      " [  0   0   0 ...   0   0 198]]\n"
     ]
    }
   ],
   "source": [
    "import numpy as np\n",
    "# import itertools\n",
    "\n",
    "# def list_primes(upto):\n",
    "#     odds = np.arange(3, upto + 1, 2)\n",
    "#     isprime = np.ones((upto - 1) // 2, dtype=bool)\n",
    "#     for factor in odds[:int(upto**.5)//2]:\n",
    "#         if isprime[(factor-2)//2]:\n",
    "#             isprime[(factor*3-2)//2::factor] = 0\n",
    "#     return np.insert(odds[isprime], 0, 2)\n",
    "\n",
    "# primes = np.array(list_primes(99))\n",
    "numbers = np.arange(2, 100)\n",
    "\n",
    "products = np.zeros((100, 100), dtype=int)\n",
    "products[2:, 2:] = np.triu(numbers[:, None] * numbers[None, :])\n",
    "\n",
    "products_original = products.copy()\n",
    "\n",
    "sums = np.zeros((100, 100), dtype=int)\n",
    "sums[2:, 2:] = np.triu(numbers[:, None] + numbers[None, :])\n",
    "\n",
    "print(products, '\\n')\n",
    "print(sums)"
   ]
  },
  {
   "cell_type": "code",
   "execution_count": 60,
   "metadata": {},
   "outputs": [
    {
     "data": {
      "text/plain": [
       "('Total available pairs of numbers: ', 4851)"
      ]
     },
     "execution_count": 60,
     "metadata": {},
     "output_type": "execute_result"
    }
   ],
   "source": [
    "def remove_diagonal(x, y, *, mark=0):\n",
    "    '''Removes the whole opposite diagonal in upper triangle from products and sums matrices'''\n",
    "    rng = np.arange(max(x + y - 99, 0), min(x + y + 1, 100))\n",
    "    upper_triangle_diagonal = rng[:(len(rng)+1)//2], rng[:-(len(rng)+2)//2:-1]\n",
    "\n",
    "    sums[upper_triangle_diagonal] = mark\n",
    "    products[upper_triangle_diagonal] = mark\n",
    "    \n",
    "def number_available():\n",
    "    '''Returns the number of available values for the next step'''\n",
    "    return np.sum(sums > 0)\n",
    "\n",
    "'Total available pairs of numbers: ', number_available()"
   ]
  },
  {
   "cell_type": "code",
   "execution_count": 61,
   "metadata": {},
   "outputs": [
    {
     "data": {
      "text/plain": [
       "('Available pairs of numbers after Step 1 and Step 2: ', 145)"
      ]
     },
     "execution_count": 61,
     "metadata": {},
     "output_type": "execute_result"
    }
   ],
   "source": [
    "# Prod: I don't know the numbers; >>> product is not unique\n",
    "# Step 1. Exclude all values that do not have duplicates in upper triangle of the products matrix\n",
    "\n",
    "# Sum: I know it; >>> cannot be a sum of numbers that make a unique product\n",
    "# Step 2. Exclude all values that can be formed by sum of numbers that make a unique product\n",
    "# i.e exclude opposite diagonal for each where value from Step 1.\n",
    "\n",
    "# commented below is insufficient\n",
    "# prime_combos = itertools.combinations_with_replacement(primes, 2)\n",
    "# for combo in prime_combos:\n",
    "#     remove_diagonal(*combo, mark=-1) # marking prime sums diagonals for step 3\n",
    "\n",
    "unique_prods, unique_counts = np.unique(products, return_counts=True)\n",
    "unique_prods = unique_prods[unique_counts == 1]\n",
    "unique_indices = np.where(np.isin(products, unique_prods))\n",
    "for x, y in zip(*unique_indices):\n",
    "    remove_diagonal(x, y, mark=-1) # marking prime sums diagonals for step 3\n",
    "\n",
    "'Available pairs of numbers after Step 1 and Step 2: ', number_available()"
   ]
  },
  {
   "cell_type": "code",
   "execution_count": 62,
   "metadata": {},
   "outputs": [
    {
     "name": "stdout",
     "output_type": "stream",
     "text": [
      "Number of unique products processed on Step 3:  (113,)\n",
      "Number of available products after Step 3:  86\n"
     ]
    }
   ],
   "source": [
    "# Prod: then I know the numbers; >>> if divided on factors there is only one option \n",
    "#                                    of not being a sum of prime numbers\n",
    "# Step 3. For each product find indices of equal values, count pairs which make sums\n",
    "#         that lay in a diagonal of a prime number sum. Than filter out single counts\n",
    "#         but only when there are multiple sets of factors (else prod could have guessed earlier).\n",
    "\n",
    "unique_prods = np.unique(products)[2:]\n",
    "print('Number of unique products processed on Step 3: ', unique_prods.shape)\n",
    "good_prods = np.array([])\n",
    "for prod in unique_prods:\n",
    "    corresponding_sums = sums[np.where(products_original == prod)]\n",
    "    if len(corresponding_sums) > 1 and np.sum(corresponding_sums != -1) == 1:\n",
    "        good_prods = np.append(good_prods, prod)\n",
    "        products[np.where(products_original == prod)] = -2 # marking appropriate products for step 4\n",
    "\n",
    "print('Number of available products after Step 3: ', len(good_prods))"
   ]
  },
  {
   "cell_type": "code",
   "execution_count": 63,
   "metadata": {},
   "outputs": [
    {
     "name": "stdout",
     "output_type": "stream",
     "text": [
      "Number of unique sums processed on Step 4:  (10,)\n",
      "Number of available sums after Step 4:  1\n",
      "Corresponging pairs of numbers: \n",
      " [[ 4 13]]\n"
     ]
    }
   ],
   "source": [
    "# Sum: then I know the numbers too. >>> if divided on summands there is only one option \n",
    "#                                       that leaves Prod with only one option on previous step\n",
    "# Step 4. Divide each sum on summands, count combos that multiply into one of prods values\n",
    "#         from Step 3. Then filter out single counts. There sould be only one such. \n",
    "\n",
    "unique_sums = np.unique(sums)[2:]\n",
    "print('Number of unique sums processed on Step 4: ', unique_sums.shape)\n",
    "good_sums = np.array([])\n",
    "solutions = np.empty((0, 2), int)\n",
    "for sum in unique_sums:\n",
    "    corresponding_prods = products[np.where(sums == sum)]\n",
    "    if np.sum(corresponding_prods == -2) == 1:\n",
    "        good_sums = np.append(good_sums, sum)\n",
    "        # these will always be single value arrays\n",
    "        solution = np.array(np.where(np.logical_and(sums == sum, products == -2))).reshape(2)\n",
    "        solutions = np.append(solutions, [solution], axis=0)\n",
    "print('Number of available sums after Step 4: ', len(good_sums))\n",
    "print('Corresponging pairs of numbers: \\n', solutions)"
   ]
  },
  {
   "cell_type": "markdown",
   "metadata": {},
   "source": [
    "### Final note.\n",
    "Since we are getting multiple possible pairs of numbers, then this task cannot be logically completed and there is no right solution for these particular conditions. BUT! If we cut down our set of available sums so they cannot reach 69 + 96 = 162 (a + b < 162), then all the solutions except first one will not be available. So in that case the task will be solvable and such dialog will make sence. In fact, it turns out the classical version of this problem has a restriction that says a + b < 100. It's dated 1969 and is called [Impossible Puzzle](https://en.wikipedia.org/wiki/Sum_and_Product_Puzzle) or Freudenthal Problem. Nice!"
   ]
  },
  {
   "cell_type": "code",
   "execution_count": 64,
   "metadata": {},
   "outputs": [
    {
     "name": "stdout",
     "output_type": "stream",
     "text": [
      "Solution found! Numbers are:  [ 4 13]\n"
     ]
    }
   ],
   "source": [
    "if len(good_sums) == 1:\n",
    "    print('Solution found! Numbers are: ', solutions[0])\n",
    "elif len(good_sums) > 1:\n",
    "    print('Multiple solutions found. Thus, scientists are not honest! Solutions: \\n', *solutions)\n",
    "else:\n",
    "    print('No solutions found. Thus, scientists are not honest!')"
   ]
  }
 ],
 "metadata": {
  "kernelspec": {
   "display_name": "Python 3",
   "language": "python",
   "name": "python3"
  },
  "language_info": {
   "codemirror_mode": {
    "name": "ipython",
    "version": 3
   },
   "file_extension": ".py",
   "mimetype": "text/x-python",
   "name": "python",
   "nbconvert_exporter": "python",
   "pygments_lexer": "ipython3",
   "version": "3.8.10"
  }
 },
 "nbformat": 4,
 "nbformat_minor": 2
}
